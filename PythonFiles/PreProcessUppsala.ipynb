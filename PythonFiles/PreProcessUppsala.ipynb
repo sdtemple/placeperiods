{
 "cells": [
  {
   "cell_type": "raw",
   "metadata": {},
   "source": [
    "Seth Temple\n",
    "CIS 401 Research\n",
    "Place the Period Problem\n",
    "Pre-process Uppsala Student English Corpus"
   ]
  },
  {
   "cell_type": "code",
   "execution_count": 1,
   "metadata": {},
   "outputs": [],
   "source": [
    "import os\n",
    "import re\n",
    "import codecs\n",
    "import sys"
   ]
  },
  {
   "cell_type": "code",
   "execution_count": 2,
   "metadata": {},
   "outputs": [],
   "source": [
    "def pre_process_uppsala_essay(folder, file):\n",
    "    ''' (str, str) -> None\n",
    "    Removes XML formatting and references from .txt essays in the Uppsala Student English Corpus.\n",
    "    http://www.engelska.uu.se/research/english-language/electronic-resources/use\n",
    "    '''\n",
    "    home = os.path.expanduser('~')\n",
    "    path = '\\\\Documents\\\\RULE\\\\UppsalaStudentCorpus\\\\USEcorpus\\\\' # manually change path and new_path\n",
    "    new_path = '\\\\Documents\\\\RULE\\\\UppsalaStudentCorpus\\\\USEtexts\\\\'\n",
    "    \n",
    "    try:\n",
    "        with codecs.open(home + path + folder + '\\\\' + file, 'r', 'utf-8') as f:\n",
    "            \n",
    "            new_file = codecs.open(home + new_path + folder + '.' + file[:-7]+ '.txt', 'w', 'utf-8')\n",
    "        \n",
    "            for i, line in enumerate(f):\n",
    "                line = line.strip('\\r\\n').strip('\\t')\n",
    "                if re.match(r\"<doc(.*)>\", line) != None: # if and elif clauses remove XML formatting\n",
    "                    pass\n",
    "                elif re.match(r\"<title>(.*)</title>\", line) != None:\n",
    "                    pass\n",
    "                elif re.match(r\"</doc>\", line) != None:\n",
    "                    pass\n",
    "                elif len(line) < 100: # somewhat arbitrary int to cutoff references\n",
    "                    pass\n",
    "                else:\n",
    "                    line = re.sub(r\"\\((.*)\\)\", '', line)\n",
    "                    new_file.write(' ' + line)\n",
    "    except UnicodeDecodeError:\n",
    "        pass\n",
    "    \n",
    "    new_file.close() # open and close file to avoid PermissionError\n",
    "    \n",
    "    new_file = codecs.open(home + new_path + folder + '.' + file[:-7]+ '.txt', 'r', 'utf-8')\n",
    "    file_length = len(new_file.read())\n",
    "    \n",
    "    new_file.close()\n",
    "    if file_length < 1500: # arbitrary cutoff for how long an essay must be\n",
    "        os.remove(home + new_path + folder + '.' + file[:-7]+ '.txt')\n",
    "    \n",
    "    return None"
   ]
  },
  {
   "cell_type": "code",
   "execution_count": 3,
   "metadata": {},
   "outputs": [],
   "source": [
    "def pre_process_uppsala_essays():\n",
    "    ''' (None) -> None\n",
    "    Calls pre_process_uppsala_essays for all files in all folders containing the Uppsala Student English Corpus data.\n",
    "    '''\n",
    "    for folder in os.listdir(os.path.expanduser('~')+ \"\\\\Documents\\\\RULE\\\\UppsalaStudentCorpus\\\\USEcorpus\\\\\"):\n",
    "        for file in os.listdir(os.path.expanduser('~')+ \"\\\\Documents\\\\RULE\\\\UppsalaStudentCorpus\\\\USEcorpus\\\\\" + str(folder)):\n",
    "            pre_process_uppsala_essay(str(folder), str(file))"
   ]
  },
  {
   "cell_type": "code",
   "execution_count": 4,
   "metadata": {},
   "outputs": [],
   "source": [
    "pre_process_uppsala_essays()"
   ]
  }
 ],
 "metadata": {
  "kernelspec": {
   "display_name": "Python 3",
   "language": "python",
   "name": "python3"
  },
  "language_info": {
   "codemirror_mode": {
    "name": "ipython",
    "version": 3
   },
   "file_extension": ".py",
   "mimetype": "text/x-python",
   "name": "python",
   "nbconvert_exporter": "python",
   "pygments_lexer": "ipython3",
   "version": "3.6.4"
  }
 },
 "nbformat": 4,
 "nbformat_minor": 2
}

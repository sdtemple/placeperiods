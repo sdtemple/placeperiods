{
 "cells": [
  {
   "cell_type": "raw",
   "metadata": {},
   "source": [
    "Seth Temple\n",
    "CIS 401 Research\n",
    "Place the Period Problem\n",
    "Process Punctuation"
   ]
  },
  {
   "cell_type": "code",
   "execution_count": 2,
   "metadata": {},
   "outputs": [],
   "source": [
    "import os\n",
    "import codecs\n",
    "import re\n",
    "from string import punctuation"
   ]
  },
  {
   "cell_type": "code",
   "execution_count": 33,
   "metadata": {},
   "outputs": [],
   "source": [
    "def unicode_apostrophes(doc):\n",
    "    ''' (str) -> str\n",
    "    Translates unicode apostrophes to a generic apostrophe.\n",
    "    '''\n",
    "    d = {u'\\u2019':'\\'', u'\\u2018':'\\'', u'\\u201C':'\"', u'\\u201D':'\"'}\n",
    "    t = str.maketrans(d)\n",
    "    return doc.translate(t)"
   ]
  },
  {
   "cell_type": "code",
   "execution_count": 34,
   "metadata": {},
   "outputs": [],
   "source": [
    "def reg_exp_special_periods(doc):\n",
    "    ''' (str) -> str\n",
    "    Uses regular expressions to remove periods for special cases. A period is supposed to be a full stop in our context.\n",
    "    '''\n",
    "    doc = re.sub(r\" \\D\\. \", ' ', doc) # handles middle initials\n",
    "    doc = re.sub(r\"St\\. \", 'St ', doc) # handling some titles\n",
    "    doc = re.sub(r\"Mrs\\. \", 'Mrs ', doc)\n",
    "    doc = re.sub(r\"Ms\\. \", 'Ms ', doc)\n",
    "    doc = re.sub(r\"Mr\\. \", 'Mr ', doc)\n",
    "    doc = re.sub(r\"Dr\\. \", 'Dr ', doc)\n",
    "    doc = re.sub(r\"Sr\\. \", 'Sr ', doc)\n",
    "    doc = re.sub(r\"Jr\\. \", 'Jr ', doc)\n",
    "    doc = re.sub(r\"So\\. \", 'sophomore ', doc)\n",
    "    doc = re.sub(r\"Fr\\. \", 'freshman ', doc)\n",
    "    doc = re.sub(r\"vs\\. \", 'vs ', doc) # handling some Latin\n",
    "    doc = re.sub(r\"et al\\. \", 'et al ', doc)\n",
    "    return doc"
   ]
  },
  {
   "cell_type": "code",
   "execution_count": 35,
   "metadata": {},
   "outputs": [],
   "source": [
    "def handle_acronyms(doc):\n",
    "    ''' (str) -> str\n",
    "    Takes out periods from an acronym.\n",
    "    '''\n",
    "    words = doc.split()\n",
    "    doc = ''\n",
    "    for i in range(len(words)):\n",
    "        if words[i].count('.') > 1:\n",
    "            words[i] = words[i].replace('.','')\n",
    "        doc = doc + words[i] + ' '\n",
    "    return doc       "
   ]
  },
  {
   "cell_type": "code",
   "execution_count": 36,
   "metadata": {},
   "outputs": [],
   "source": [
    "def reg_exp_fixes(doc):\n",
    "    ''' (str) -> str\n",
    "    Uses regular expressions to modify some words for Google's Word2Vec model.\n",
    "    Most substitutions deal with numbers and decimal places.\n",
    "    '''\n",
    "    doc = re.sub(r\"\\((.*?)\\)\", '', doc) # remove phrases in parentheses\n",
    "    doc = re.sub(r\"\\[(.*?)\\]\", '', doc) # remove phrases in brackets\n",
    "    doc = re.sub(r\"\\.\\.\\.\", '. ', doc) \n",
    "    doc = re.sub(r\"\\'s\", '', doc) # handles possessives\n",
    "    doc = re.sub(r\"\\d+st\", ' number ', doc)  # handles numbers\n",
    "    doc = re.sub(r\"\\d+rd\", ' number ', doc)\n",
    "    doc = re.sub(r\"\\d+nd\", ' number ', doc)\n",
    "    doc = re.sub(r\"\\d+th\", ' number ', doc)\n",
    "    doc = re.sub(r\"\\d+s\", ' number ', doc)\n",
    "    doc = re.sub(r\"\\d+\\.\\d+\", ' number ', doc) \n",
    "    doc = re.sub(r\" \\.\\d+\", ' number ', doc)\n",
    "    doc = re.sub(r\"\\d+\", ' number ', doc)\n",
    "    return doc"
   ]
  },
  {
   "cell_type": "code",
   "execution_count": 37,
   "metadata": {},
   "outputs": [],
   "source": [
    "def fix_punctuation(doc):\n",
    "    ''' (str) -> str\n",
    "    Either removes punctuation or modifies it. Only sentence enders (!,?,.) and contractions remain.\n",
    "    '''\n",
    "    p = punctuation[1:3] + punctuation[7:12] + punctuation[14:20] + punctuation[22:]\n",
    "    d = {thing:'' for thing in p} # dictionary\n",
    "    d.update({'%':' percent ', '$':' dollars ',\n",
    "              '&':' ampersand ', '@':' at ',\n",
    "              '-':' ', u'\\u2013':' ', u'\\u2014':' ',\n",
    "              '!':' ! ', '?':' ? ', '.':' . '})\n",
    "    t = str.maketrans(d) # translation table\n",
    "    \n",
    "    return doc.translate(t)"
   ]
  },
  {
   "cell_type": "code",
   "execution_count": 38,
   "metadata": {},
   "outputs": [],
   "source": [
    "def strip_apostrophes(doc):\n",
    "    ''' (str) -> str\n",
    "    Removes apostrophes that start or end a word. Does not affect contractions.\n",
    "    '''\n",
    "    words = doc.split()\n",
    "    words = [item.strip('\\'') for item in words] # must split into words to strip apostrophes\n",
    "    \n",
    "    doc = ''\n",
    "    for word in words:\n",
    "        doc = doc + word + ' '\n",
    "    return doc"
   ]
  },
  {
   "cell_type": "code",
   "execution_count": 48,
   "metadata": {},
   "outputs": [],
   "source": [
    "def process_punctuation():\n",
    "    ''' (None) -> None\n",
    "    Removes punctuation in .txt file that doesn't correspond to a contraction or a full stop.\n",
    "    Writes new .txt file to a new location in storage.\n",
    "    Calls strip_apostrophes, fix_punctuation, reg_exp_fixes, handle_acronyms, and reg_exp_special_periods.\n",
    "    '''\n",
    "    home = os.path.expanduser('~')\n",
    "    path = '\\\\Documents\\\\RULE\\\\UppsalaStudentCorpus\\\\USEtexts\\\\' # change file path accordingly \n",
    "    new_path = '\\\\Documents\\\\RULE\\\\UppsalaStudentCorpus\\\\USEdata\\\\' # change file path accordingly\n",
    "    for file in os.listdir(home + path):\n",
    "        with open(home + path + file, 'r') as f:\n",
    "            new_file = open(home + new_path + file, 'w')\n",
    "            document = unicode_apostrophes(f.read())\n",
    "            new_file.write(strip_apostrophes(fix_punctuation(handle_acronyms(reg_exp_fixes(reg_exp_special_periods(document))))))\n",
    "            new_file.close()\n",
    "        \n",
    "    return None"
   ]
  },
  {
   "cell_type": "code",
   "execution_count": 49,
   "metadata": {},
   "outputs": [],
   "source": [
    "process_punctuation()"
   ]
  }
 ],
 "metadata": {
  "kernelspec": {
   "display_name": "Python 3",
   "language": "python",
   "name": "python3"
  },
  "language_info": {
   "codemirror_mode": {
    "name": "ipython",
    "version": 3
   },
   "file_extension": ".py",
   "mimetype": "text/x-python",
   "name": "python",
   "nbconvert_exporter": "python",
   "pygments_lexer": "ipython3",
   "version": "3.6.4"
  }
 },
 "nbformat": 4,
 "nbformat_minor": 2
}
